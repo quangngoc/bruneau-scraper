{
 "cells": [
  {
   "cell_type": "markdown",
   "metadata": {},
   "source": [
    "### Parameters"
   ]
  },
  {
   "cell_type": "code",
   "execution_count": 1,
   "metadata": {},
   "outputs": [],
   "source": [
    "main_url = 'https://www.bruneau.fr/'\n",
    "page_url = 'catalog/dessertes/5633399o-jmbpr'\n",
    "save_path = 'C:\\\\Users\\\\quang\\\\Documents'\n",
    "time_sleeps = 3 # wait 3 seconds before each action"
   ]
  },
  {
   "cell_type": "code",
   "execution_count": 2,
   "metadata": {},
   "outputs": [],
   "source": [
    "pages_dict = [\n",
    "    ('Bureaux', 'catalog/bureaux/196105474o-jmbpr'),\n",
    "    ('Chaises et bureau', 'catalog/chaises-bureau/196105475o-jmbpr')\n",
    "]"
   ]
  },
  {
   "cell_type": "markdown",
   "metadata": {},
   "source": [
    "### Import libraries"
   ]
  },
  {
   "cell_type": "code",
   "execution_count": 3,
   "metadata": {},
   "outputs": [],
   "source": [
    "from selenium import webdriver\n",
    "from webdriver_manager.chrome import ChromeDriverManager\n",
    "from selenium.webdriver.common.by import By\n",
    "from selenium.webdriver.chrome.service import Service\n",
    "from selenium.webdriver.support.wait import WebDriverWait\n",
    "from selenium.webdriver.support import expected_conditions as EC\n",
    "import time\n",
    "from typing import Union\n",
    "import urllib.parse\n",
    "import pandas as pd"
   ]
  },
  {
   "cell_type": "markdown",
   "metadata": {},
   "source": [
    "### Access to main page & close pop-ups"
   ]
  },
  {
   "cell_type": "code",
   "execution_count": 4,
   "metadata": {},
   "outputs": [],
   "source": [
    "s=Service(ChromeDriverManager().install())\n",
    "options = webdriver.ChromeOptions()\n",
    "options.add_experimental_option('excludeSwitches', ['enable-logging'])\n",
    "driver = webdriver.Chrome(service=s,options=options)\n",
    "driver.maximize_window()\n",
    "driver.get(main_url)"
   ]
  },
  {
   "cell_type": "code",
   "execution_count": 5,
   "metadata": {},
   "outputs": [],
   "source": [
    "time.sleep(time_sleeps)\n",
    "t = WebDriverWait(driver, time_sleeps).until(EC.element_to_be_clickable((By.XPATH, \"//button[@id='onetrust-accept-btn-handler']\"))).click()"
   ]
  },
  {
   "cell_type": "code",
   "execution_count": 6,
   "metadata": {},
   "outputs": [],
   "source": [
    "time.sleep(2*time_sleeps)\n",
    "WebDriverWait(driver, time_sleeps).until(EC.element_to_be_clickable((By.CSS_SELECTOR, \"button[class='isg-popin-close isg-button-reset']\"))).click()"
   ]
  },
  {
   "cell_type": "markdown",
   "metadata": {},
   "source": [
    "### Get data"
   ]
  },
  {
   "cell_type": "code",
   "execution_count": 7,
   "metadata": {},
   "outputs": [],
   "source": [
    "def get_products(page_url):\n",
    "    url = f'{main_url}{page_url}'\n",
    "    driver.get(url)\n",
    "    time.sleep(time_sleeps)\n",
    "    try:\n",
    "        product_more = WebDriverWait(driver, time_sleeps).until(EC.visibility_of_all_elements_located((By.XPATH, \"//div[contains(@class, 'isg-product-list-more')]\")))\n",
    "        product_more_text = product_more[0].text\n",
    "        product_more_text = product_more_text.split('\\n')[0].split(' ')[-1]\n",
    "        total_products = int(product_more_text)\n",
    "        total_pages = total_products//48 if total_products % 48 == 0 else total_products//48 + 1\n",
    "    except:\n",
    "        total_pages = 1\n",
    "    \n",
    "    product_names = []\n",
    "    product_prices = []\n",
    "    product_status = []\n",
    "    product_urls = []\n",
    "    \n",
    "    for page_num in range(1, total_pages+1):\n",
    "        if (page_num != 1):\n",
    "            next_url = f'{main_url}{page_url}?page={page_num}'\n",
    "            driver.get(next_url)\n",
    "            time.sleep(time_sleeps)\n",
    "        products = WebDriverWait(driver, time_sleeps).until(EC.visibility_of_all_elements_located((By.XPATH, \"//div[contains(@class, 'isg-product-list-item pure-u-1')]\")))\n",
    "        for product in products:\n",
    "            title = product.find_elements(By.XPATH, \".//p[contains(@class, 'isg-catalog-product-title')]\")\n",
    "            if (len(title) > 0):\n",
    "                product_names.append(title[0].text)\n",
    "            price = product.find_elements(By.XPATH, \".//span[contains(@class, 'isg-price-value')]\")\n",
    "            if (len(price) > 0):\n",
    "                product_prices.append(price[0].text)\n",
    "            status = product.find_elements(By.XPATH, \".//span[contains(@class, 'isg-product-stock')]\")\n",
    "            if (len(status) > 0):\n",
    "                product_status.append(status[0].text)\n",
    "            product_url = product.find_elements(By.XPATH, \".//a[contains(@class, 'isg-catalog-product-top')]\")\n",
    "            if (len(product_url) > 0):\n",
    "                product_urls.append(product_url[0].get_attribute('href'))\n",
    "    data = {\n",
    "        'product_name': product_names,\n",
    "        'product_price': product_prices,\n",
    "        'product_status': product_status,\n",
    "        'product_url': product_urls\n",
    "    }\n",
    "    data = pd.DataFrame(data, columns=['product_name', 'product_price', 'product_status', 'product_url'])\n",
    "    return data"
   ]
  },
  {
   "cell_type": "code",
   "execution_count": 8,
   "metadata": {},
   "outputs": [
    {
     "data": {
      "text/html": [
       "<div>\n",
       "<style scoped>\n",
       "    .dataframe tbody tr th:only-of-type {\n",
       "        vertical-align: middle;\n",
       "    }\n",
       "\n",
       "    .dataframe tbody tr th {\n",
       "        vertical-align: top;\n",
       "    }\n",
       "\n",
       "    .dataframe thead th {\n",
       "        text-align: right;\n",
       "    }\n",
       "</style>\n",
       "<table border=\"1\" class=\"dataframe\">\n",
       "  <thead>\n",
       "    <tr style=\"text-align: right;\">\n",
       "      <th></th>\n",
       "      <th>product_name</th>\n",
       "      <th>product_price</th>\n",
       "      <th>product_status</th>\n",
       "      <th>product_url</th>\n",
       "      <th>category</th>\n",
       "    </tr>\n",
       "  </thead>\n",
       "  <tbody>\n",
       "    <tr>\n",
       "      <th>0</th>\n",
       "      <td>Bureau Biblioffice L 140cm 9 cases</td>\n",
       "      <td>295,00 € ht</td>\n",
       "      <td>En stock</td>\n",
       "      <td>https://www.bruneau.fr/product/bureau-biblioff...</td>\n",
       "      <td>Bureaux</td>\n",
       "    </tr>\n",
       "    <tr>\n",
       "      <th>1</th>\n",
       "      <td>Bureau Biblioffice L 140cm 6 cases</td>\n",
       "      <td>259,00 € ht</td>\n",
       "      <td>En stock</td>\n",
       "      <td>https://www.bruneau.fr/product/bureau-biblioff...</td>\n",
       "      <td>Bureaux</td>\n",
       "    </tr>\n",
       "    <tr>\n",
       "      <th>2</th>\n",
       "      <td>Bureau Yale L 114 cm avec étagère chêne</td>\n",
       "      <td>129,00 € ht</td>\n",
       "      <td>En stock</td>\n",
       "      <td>https://www.bruneau.fr/product/bureau-yale-l-1...</td>\n",
       "      <td>Bureaux</td>\n",
       "    </tr>\n",
       "    <tr>\n",
       "      <th>3</th>\n",
       "      <td>Bureau Designy</td>\n",
       "      <td>149,00 € ht</td>\n",
       "      <td>En stock</td>\n",
       "      <td>https://www.bruneau.fr/product/bureau-designy/...</td>\n",
       "      <td>Bureaux</td>\n",
       "    </tr>\n",
       "    <tr>\n",
       "      <th>4</th>\n",
       "      <td>Bureau Horizon chêne clair L 134 cm piètement ...</td>\n",
       "      <td>275,00 € ht</td>\n",
       "      <td>En stock</td>\n",
       "      <td>https://www.bruneau.fr/product/bureau-horizon-...</td>\n",
       "      <td>Bureaux</td>\n",
       "    </tr>\n",
       "    <tr>\n",
       "      <th>...</th>\n",
       "      <td>...</td>\n",
       "      <td>...</td>\n",
       "      <td>...</td>\n",
       "      <td>...</td>\n",
       "      <td>...</td>\n",
       "    </tr>\n",
       "    <tr>\n",
       "      <th>52</th>\n",
       "      <td>Fauteuil de bureau BATTISTA - dossier haut</td>\n",
       "      <td>425,00 € ht</td>\n",
       "      <td>Arrivage</td>\n",
       "      <td>https://www.bruneau.fr/product/fauteuil-bureau...</td>\n",
       "      <td>Chaises et bureau</td>\n",
       "    </tr>\n",
       "    <tr>\n",
       "      <th>53</th>\n",
       "      <td>Fauteuil de bureau BATTISTA - dossier bas</td>\n",
       "      <td>450,00 € ht</td>\n",
       "      <td>Arrivage</td>\n",
       "      <td>https://www.bruneau.fr/product/fauteuil-bureau...</td>\n",
       "      <td>Chaises et bureau</td>\n",
       "    </tr>\n",
       "    <tr>\n",
       "      <th>54</th>\n",
       "      <td>Chaise KOVE - tapissée</td>\n",
       "      <td>495,00 € ht</td>\n",
       "      <td>Arrivage</td>\n",
       "      <td>https://www.bruneau.fr/product/chaise-kove-tap...</td>\n",
       "      <td>Chaises et bureau</td>\n",
       "    </tr>\n",
       "    <tr>\n",
       "      <th>55</th>\n",
       "      <td>Chaise Bi-matière SOLAIRU noir</td>\n",
       "      <td>289,00 € ht</td>\n",
       "      <td>Arrivage</td>\n",
       "      <td>https://www.bruneau.fr/product/chaise-bi-matie...</td>\n",
       "      <td>Chaises et bureau</td>\n",
       "    </tr>\n",
       "    <tr>\n",
       "      <th>56</th>\n",
       "      <td>Siège de bureau DOUGLAS</td>\n",
       "      <td>99,00 € ht</td>\n",
       "      <td>Recevoir une alerte stock par email</td>\n",
       "      <td>https://www.bruneau.fr/product/siege-bureau-do...</td>\n",
       "      <td>Chaises et bureau</td>\n",
       "    </tr>\n",
       "  </tbody>\n",
       "</table>\n",
       "<p>89 rows × 5 columns</p>\n",
       "</div>"
      ],
      "text/plain": [
       "                                         product_name product_price  \\\n",
       "0                  Bureau Biblioffice L 140cm 9 cases   295,00 € ht   \n",
       "1                  Bureau Biblioffice L 140cm 6 cases   259,00 € ht   \n",
       "2             Bureau Yale L 114 cm avec étagère chêne   129,00 € ht   \n",
       "3                                      Bureau Designy   149,00 € ht   \n",
       "4   Bureau Horizon chêne clair L 134 cm piètement ...   275,00 € ht   \n",
       "..                                                ...           ...   \n",
       "52         Fauteuil de bureau BATTISTA - dossier haut   425,00 € ht   \n",
       "53          Fauteuil de bureau BATTISTA - dossier bas   450,00 € ht   \n",
       "54                             Chaise KOVE - tapissée   495,00 € ht   \n",
       "55                     Chaise Bi-matière SOLAIRU noir   289,00 € ht   \n",
       "56                            Siège de bureau DOUGLAS    99,00 € ht   \n",
       "\n",
       "                         product_status  \\\n",
       "0                              En stock   \n",
       "1                              En stock   \n",
       "2                              En stock   \n",
       "3                              En stock   \n",
       "4                              En stock   \n",
       "..                                  ...   \n",
       "52                             Arrivage   \n",
       "53                             Arrivage   \n",
       "54                             Arrivage   \n",
       "55                             Arrivage   \n",
       "56  Recevoir une alerte stock par email   \n",
       "\n",
       "                                          product_url           category  \n",
       "0   https://www.bruneau.fr/product/bureau-biblioff...            Bureaux  \n",
       "1   https://www.bruneau.fr/product/bureau-biblioff...            Bureaux  \n",
       "2   https://www.bruneau.fr/product/bureau-yale-l-1...            Bureaux  \n",
       "3   https://www.bruneau.fr/product/bureau-designy/...            Bureaux  \n",
       "4   https://www.bruneau.fr/product/bureau-horizon-...            Bureaux  \n",
       "..                                                ...                ...  \n",
       "52  https://www.bruneau.fr/product/fauteuil-bureau...  Chaises et bureau  \n",
       "53  https://www.bruneau.fr/product/fauteuil-bureau...  Chaises et bureau  \n",
       "54  https://www.bruneau.fr/product/chaise-kove-tap...  Chaises et bureau  \n",
       "55  https://www.bruneau.fr/product/chaise-bi-matie...  Chaises et bureau  \n",
       "56  https://www.bruneau.fr/product/siege-bureau-do...  Chaises et bureau  \n",
       "\n",
       "[89 rows x 5 columns]"
      ]
     },
     "execution_count": 8,
     "metadata": {},
     "output_type": "execute_result"
    }
   ],
   "source": [
    "product_datas = []\n",
    "for category, page_url in pages_dict:\n",
    "    product_data = get_products(page_url)\n",
    "    product_data['category'] = category\n",
    "    product_datas.append(product_data)\n",
    "all_data = pd.concat(product_datas, axis=0)\n",
    "all_data"
   ]
  },
  {
   "cell_type": "code",
   "execution_count": 10,
   "metadata": {},
   "outputs": [],
   "source": [
    "all_data.to_excel(f'{save_path}\\\\all_data.xlsx')"
   ]
  }
 ],
 "metadata": {
  "kernelspec": {
   "display_name": "Python 3.9.12 ('base')",
   "language": "python",
   "name": "python3"
  },
  "language_info": {
   "codemirror_mode": {
    "name": "ipython",
    "version": 3
   },
   "file_extension": ".py",
   "mimetype": "text/x-python",
   "name": "python",
   "nbconvert_exporter": "python",
   "pygments_lexer": "ipython3",
   "version": "3.9.12"
  },
  "orig_nbformat": 4,
  "vscode": {
   "interpreter": {
    "hash": "ad2bdc8ecc057115af97d19610ffacc2b4e99fae6737bb82f5d7fb13d2f2c186"
   }
  }
 },
 "nbformat": 4,
 "nbformat_minor": 2
}
